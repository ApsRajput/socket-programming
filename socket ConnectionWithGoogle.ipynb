{
 "cells": [
  {
   "cell_type": "code",
   "execution_count": 4,
   "metadata": {},
   "outputs": [
    {
     "name": "stdout",
     "output_type": "stream",
     "text": [
      "the socket has successfully connected to google \\ on port == 216.58.196.196\n"
     ]
    }
   ],
   "source": [
    "import socket # for socket \n",
    "import sys  \n",
    "\n",
    "#connecting to www.google.com\n",
    "\n",
    "ip = socket.gethostbyname(\"www.google.com\")\n",
    "print(\"the socket has successfully connected to google \\ on port == %s\" %(ip))\n",
    "\n",
    "#script to connect with google\n",
    "try: \n",
    "    s = socket.socket(socket.AF_INET, socket.SOCK_STREAM) \n",
    "    print(\"Socket successfully created\")\n",
    "except socket.error as err: \n",
    "    print(\"socket creation failed with error %s\" %(err)) \n",
    "  \n",
    "# default port for socket \n",
    "port = 80\n",
    "  \n",
    "try: \n",
    "    host_ip = socket.gethostbyname('www.google.com') \n",
    "except socket.gaierror: \n",
    "  \n",
    "    # this means could not resolve the host \n",
    "    print(\"there was an error resolving the host\")\n",
    "    sys.exit() \n",
    "  \n",
    "# connecting to the server \n",
    "s.connect((host_ip, port)) \n",
    "\n",
    "print(\"the socket has successfully connected to google \\ on port == %s\" %(host_ip))"
   ]
  },
  {
   "cell_type": "code",
   "execution_count": null,
   "metadata": {},
   "outputs": [],
   "source": []
  },
  {
   "cell_type": "code",
   "execution_count": null,
   "metadata": {},
   "outputs": [],
   "source": []
  },
  {
   "cell_type": "code",
   "execution_count": null,
   "metadata": {},
   "outputs": [],
   "source": []
  }
 ],
 "metadata": {
  "kernelspec": {
   "display_name": "Python 3",
   "language": "python",
   "name": "python3"
  },
  "language_info": {
   "codemirror_mode": {
    "name": "ipython",
    "version": 3
   },
   "file_extension": ".py",
   "mimetype": "text/x-python",
   "name": "python",
   "nbconvert_exporter": "python",
   "pygments_lexer": "ipython3",
   "version": "3.6.9"
  }
 },
 "nbformat": 4,
 "nbformat_minor": 4
}
